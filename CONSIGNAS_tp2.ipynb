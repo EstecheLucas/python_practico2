{
 "cells": [
  {
   "cell_type": "markdown",
   "metadata": {},
   "source": [
    "# Criterios de evaluación.\n",
    "\n",
    "* Se deben utilizar nombres de variables descriptivos y claros.\n",
    "* Cada ejercicio debe ser realizado utilizando **FUNCIONES**, NO solo codigo suelto.\n",
    "* Comentarios claros y concisos que expliquen el propósito de cada sección del código.\n",
    "* Entrega en tiempo y forma.\n",
    "* Todo el código desarrollado debe ser subido a un repositorio en GitHub.\n",
    "\n",
    "\n",
    "**Aclaración: Para resolver las actividades se debe incertar casillas de codigo entre cada actividad del cuaderno de Jupyter**"
   ]
  },
  {
   "cell_type": "markdown",
   "metadata": {},
   "source": [
    "### 1. **Bucles**\n",
    "\n",
    "   - **Actividad 1.1**: Escribir un programa que muestre el print de todo lo que el usuario introduzca hasta que el usuario escriba “salir” que terminará.\n",
    "   \n",
    "   - **Actividad 1.2**: Escribir un programa que pida al usuario un número entero y muestre por pantalla un triángulo rectángulo como el de más abajo con la cantidad de escalones indicados previamente (los numeros dentro del triangulo deben ser enteros aleatorios del 0 al 9).\n",
    "* 1\n",
    "* 3 1\n",
    "* 5 3 1\n",
    "* 7 5 3 1\n",
    "* 9 7 5 3 1"
   ]
  },
  {
   "cell_type": "code",
   "execution_count": 1,
   "metadata": {},
   "outputs": [
    {
     "name": "stdout",
     "output_type": "stream",
     "text": [
      "hola\n",
      "1\n",
      "dos\n",
      "3\n",
      "cuatro\n"
     ]
    }
   ],
   "source": [
    "def repetir(): # se define la función y se le asigna el nombre \"repetir\"\n",
    "    while (entrada := input()) != (\"salir\"): # se define la condición y se le asigna el nombre \"entrada\" y se le asigna el valor de la variable \"salir\" lo que significa que la condición se cumple mientras el usuario no escriba \"salir\"\n",
    "        print(entrada) # se imprime el valor de la variable \"entrada\"\n",
    "\n",
    "repetir() # se llama a la función"
   ]
  },
  {
   "cell_type": "code",
   "execution_count": 4,
   "metadata": {},
   "outputs": [
    {
     "name": "stdout",
     "output_type": "stream",
     "text": [
      "5\n",
      "8 2\n",
      "5 6 1\n",
      "1 6 6 4\n",
      "7 5 1 5 0\n",
      "8 7 8 2 7 1\n",
      "7 1 3 4 4 3 3\n",
      "0 8 3 1 0 2 8 7\n",
      "5 8 1 1 6 9 1 1 4\n",
      "9 9 1 6 4 8 8 3 6 7\n",
      "5 5 4 9 9 3 2 5 3 5 5\n",
      "6 3 6 9 1 8 0 4 5 8 2 5\n",
      "6 2 5 8 0 1 9 9 8 7 0 3 9\n",
      "6 5 4 6 3 9 5 2 9 9 0 6 1 6\n",
      "4 1 8 9 6 9 2 7 3 7 3 5 4 7 2\n",
      "7 1 4 4 2 6 6 0 8 4 3 3 7 4 9 4\n",
      "6 7 5 1 9 4 3 2 6 2 5 2 1 2 6 2 7\n",
      "9 0 8 2 7 2 8 9 2 0 0 2 5 2 5 6 6 8\n",
      "4 8 2 1 1 7 8 3 4 3 3 0 3 5 1 9 3 7 6\n",
      "7 6 0 7 3 9 9 3 1 8 7 0 1 0 0 3 8 0 6 4\n",
      "2 0 7 3 5 7 4 6 2 3 4 7 6 9 0 4 7 6 4 9 1\n",
      "5 4 3 6 1 6 4 8 6 9 0 5 7 1 5 0 8 9 6 5 8 4\n",
      "7 5 0 1 3 0 7 2 6 5 6 7 1 0 7 3 6 9 8 6 1 5 4\n"
     ]
    }
   ],
   "source": [
    "import random # se importa la librería \"random\" que hace que el programa genere un número aleatorio\n",
    "\n",
    "def triangulo():\n",
    "    numero_entero = int(input(\"Introduzca un número entero: \")) # se pide al usuario que introduzca un número entero y se le asigna el valor de la variable \"numero_entero\"\n",
    "    for i in range(1, numero_entero + 1): # se define la condición y se le asigna el nombre \"i\" y se le asigna el valor de la variable \"numero_entero\" lo que significa que la condición se cumple mientras el valor de la variable \"i\" sea menor que el valor de la variable \"numero_entero\" y se le suma 1 a la variable \"i\"\n",
    "        fila =[str(random.randint(0,9)) for _ in range(i) ] #  crea una lista de i números aleatorios entre 0 y 9, los convierte en cadenas y los almacena en fila\n",
    "        print(\" \".join(fila[::-1])) # imprime la lista fila en orden inverso (fila[::-1]), separando sus elementos con un espacio (\" \".join(...)).\n",
    "\n",
    "triangulo() # Se llama a la función para ejecutarla\n"
   ]
  },
  {
   "cell_type": "markdown",
   "metadata": {},
   "source": [
    "### 2. **Listas y Tuplas**\n",
    "\n",
    "   - **Actividad 1**: Escribir un programa que pida al usuario una frase y muestre por pantalla el número de veces que contiene cada vocal y la cantidad de espacios en blanco.\n",
    "\n",
    "   - **Actividad 2**: Escribir un programa que cree una matriz (con numeros aleatorios del 1 al 100) usando las dimensiones de X e Y que el usuario deberia ingresar por consola, luego crea una tupla con la matriz transpuesta y por ultimo las muestra ambas por consola .\n",
    "\n",
    "   - **Actividad 3**: Escribir un programa que almacene en una lista los siguientes precios, 50, 75, 46, 22, 80, 65, 8, y muestre por pantalla el menor y el mayor de los precios"
   ]
  },
  {
   "cell_type": "code",
   "execution_count": 5,
   "metadata": {},
   "outputs": [
    {
     "name": "stdout",
     "output_type": "stream",
     "text": [
      "a: 3\n",
      "e: 1\n",
      "o: 2\n",
      "u: 1\n",
      "Espacios en blanco: 3\n"
     ]
    }
   ],
   "source": [
    "\n",
    "def contar_vocales_espacios():\n",
    "    frase = input(\"Ingrese una frase: \") # se pide al usuario que introduzca una frase y se almacena en la variable \"frase\"\n",
    "    vocales = \"aeiouAEIOU\" # se define un string con todas las vocales\n",
    "    conteo_vocales = {v: frase.count(v) for v in vocales} # se cuenta cuántas veces aparece cada vocal en la frase\n",
    "    espacios = frase.count(\" \") # se cuenta la cantidad de espacios en blanco en la frase\n",
    "    \n",
    "    for vocal, cantidad in conteo_vocales.items(): # se itera sobre el diccionario de vocales contadas\n",
    "        if cantidad > 0:\n",
    "            print(f\"{vocal}: {cantidad}\") # se imprime la vocal y su cantidad si aparece en la frase\n",
    "    \n",
    "    print(f\"Espacios en blanco: {espacios}\") # se imprime la cantidad de espacios en blanco\n",
    "\n",
    "contar_vocales_espacios() # Se llama a la función para ejecutarla\n"
   ]
  },
  {
   "cell_type": "code",
   "execution_count": 6,
   "metadata": {},
   "outputs": [
    {
     "name": "stdout",
     "output_type": "stream",
     "text": [
      "Matriz original:\n",
      "[77, 85]\n",
      "[27, 9]\n",
      "[27, 11]\n",
      "[49, 95]\n",
      "\n",
      "Matriz transpuesta:\n",
      "(77, 27, 27, 49)\n",
      "(85, 9, 11, 95)\n"
     ]
    }
   ],
   "source": [
    "import random  # Importa la librería random para generar números aleatorios\n",
    "\n",
    "def crear_matriz():\n",
    "    # Solicita al usuario las dimensiones de la matriz\n",
    "    x = int(input(\"Ingrese el número de filas (X): \"))  # Pide al usuario el número de filas\n",
    "    y = int(input(\"Ingrese el número de columnas (Y): \"))  # Pide al usuario el número de columnas\n",
    "    \n",
    "    # Genera una matriz con valores aleatorios entre 1 y 100\n",
    "    matriz = [[random.randint(1, 100) for _ in range(y)] for _ in range(x)]  # Crea una lista de listas con números aleatorios\n",
    "    \n",
    "    # Transpone la matriz intercambiando filas por columnas y la convierte en una tupla\n",
    "    matriz_transpuesta = tuple(zip(*matriz))  # Usa zip(*) para transponer la matriz y la convierte en tupla\n",
    "    \n",
    "    # Muestra la matriz original en pantalla\n",
    "    print(\"Matriz original:\")  # Imprime el encabezado de la matriz original\n",
    "    for fila in matriz:\n",
    "        print(fila)  # Imprime cada fila de la matriz original\n",
    "    \n",
    "    # Muestra la matriz transpuesta en pantalla\n",
    "    print(\"\\nMatriz transpuesta:\")  # Imprime el encabezado de la matriz transpuesta\n",
    "    for fila in matriz_transpuesta:\n",
    "        print(fila)  # Imprime cada fila de la matriz transpuesta\n",
    "\n",
    "# Llama a la función para ejecutar el programa\n",
    "crear_matriz()  # Ejecuta la función para que el usuario ingrese los valores y vea el resultado\n"
   ]
  },
  {
   "cell_type": "code",
   "execution_count": 7,
   "metadata": {},
   "outputs": [
    {
     "name": "stdout",
     "output_type": "stream",
     "text": [
      "Lista de precios: [50, 75, 46, 22, 80, 65, 8]\n",
      "El precio más bajo es: 8\n",
      "El precio más alto es: 80\n"
     ]
    }
   ],
   "source": [
    "\n",
    "def encontrar_min_max():\n",
    "    # Lista de precios predefinidos\n",
    "    precios = [50, 75, 46, 22, 80, 65, 8]  # Se almacena la lista de precios\n",
    "    \n",
    "    # Encuentra el menor y el mayor valor de la lista\n",
    "    precio_minimo = min(precios)  # Calcula el precio mínimo de la lista\n",
    "    precio_maximo = max(precios)  # Calcula el precio máximo de la lista\n",
    "    \n",
    "    # Muestra los valores encontrados\n",
    "    print(\"Lista de precios:\", precios)  # Imprime la lista de precios\n",
    "    print(f\"El precio más bajo es: {precio_minimo}\")  # Muestra el precio mínimo\n",
    "    print(f\"El precio más alto es: {precio_maximo}\")  # Muestra el precio máximo\n",
    "\n",
    "# Llama a la función para ejecutarla\n",
    "encontrar_min_max()\n"
   ]
  },
  {
   "cell_type": "markdown",
   "metadata": {},
   "source": [
    "### 3. **Diccionarios**\n",
    "\n",
    "   - **Actividad 1**: Escribir un programa que cree un diccionario simulando una cesta de la compra. El programa debe preguntar el artículo y su precio y añadir el par al diccionario, hasta que el usuario decida terminar. Después se debe mostrar por pantalla la lista de la compra y el coste total, con el siguiente formato.\n",
    "\n",
    "   | arts  |precio |\n",
    "   |-------|-------|\n",
    "   |art 1  |1      |\n",
    "   |art 2  |2      |\n",
    "   |art 3  |3      |\n",
    "   |total  |6      |\n",
    "\n",
    "   - **Actividad 2**: Escribir un programa que cree un diccionario de traducción español-inglés. El usuario introducirá las palabras en español e inglés separadas por dos puntos, y cada par <palabra> : <traducción> separados por comas (es decir, solo se debe usar **UNA VEZ** la función input para la carga de palabras). El programa debe crear un diccionario con las palabras y sus traducciones. Después pedirá una frase en español y utilizará el diccionario para traducirla palabra a palabra. Si una palabra no está en el diccionario debe dejarla sin traducir.\n",
    "\n",
    "   - **Actividad 3**: Escribir un programa que reciba una cadena de caracteres y devuelva un diccionario con cada palabra que contiene y su frecuencia. Escribir otra función que reciba el diccionario generado con la función anterior y devuelva una tupla con la palabra más repetida y su frecuencia."
   ]
  },
  {
   "cell_type": "code",
   "execution_count": 9,
   "metadata": {},
   "outputs": [
    {
     "name": "stdout",
     "output_type": "stream",
     "text": [
      "\n",
      "| arts  | precio |\n",
      "|-------|--------|\n",
      "| hola   | 20.00  |\n",
      "|        | 20.00  |\n",
      "| total  | 40.00  |\n"
     ]
    }
   ],
   "source": [
    "\n",
    "def cesta_de_compra():\n",
    "    cesta = {}  # Diccionaro para almacenar los articulos y sus precios\n",
    "    \n",
    "    while True:\n",
    "        articulo = input(\"Ingrese el nombre del artículo (o 'fin' para terminar): \")  # Pide el nombre del articuo\n",
    "        if articulo.lower() == 'fin':  # Si el usuario escribe 'fin', se detiene la entrada de datos\n",
    "            break\n",
    "        \n",
    "        try:\n",
    "            precio = float(input(f\"Ingrese el precio de {articulo}: \"))  # Pide el precio y lo convierte en numero decimal\n",
    "            cesta[articulo] = precio  # Agrega el articulo y su precio al diccionario\n",
    "        except ValueError:\n",
    "            print(\"Error: Ingrese un precio válido.\")  # Mustra un mensaje si el usuario ingresa un valor no numerico\n",
    "    \n",
    "    total = sum(cesta.values())  # Calcula el costo toal de la compra\n",
    "    \n",
    "    # Mustra la tabla con los articulos y sus precios\n",
    "    print(\"\\n| arts  | precio |\")\n",
    "    print(\"|-------|--------|\")\n",
    "    for articulo, precio in cesta.items():\n",
    "        print(f\"| {articulo:<6} | {precio:<6.2f} |\")  # Imprime cada fila con su precio\n",
    "    print(\"| total  |\", f\"{total:<6.2f} |\")  # Imprime la fila del total\n",
    "\n",
    "# Llama a la fucion para ejecutar el programa\n",
    "cesta_de_compra()\n"
   ]
  },
  {
   "cell_type": "code",
   "execution_count": 10,
   "metadata": {},
   "outputs": [
    {
     "name": "stdout",
     "output_type": "stream",
     "text": [
      "Traducción: hello como estas\n"
     ]
    }
   ],
   "source": [
    "\n",
    "def diccionario_traduccion():\n",
    "    # Pide al usuario que ingrese pares de palabras en español e ingles, separadas por dos puntos y comas entre pares\n",
    "    entrada = input(\"Ingrese palabras en formato 'español:ingles, español:ingles': \")  \n",
    "    \n",
    "    # Crea el diccionario separando la entrada en pares y luego cada par en clave-valor\n",
    "    traducciones = {par.split(\":\")[0].strip(): par.split(\":\")[1].strip() for par in entrada.split(\",\")}\n",
    "    \n",
    "    # Pide al usuario una frase en español para ser traducida\n",
    "    frase = input(\"Ingrese una frase en español para traducir: \")  \n",
    "    \n",
    "    # Traduce cada palabra si está en el diccionaro, si no, la deja igual\n",
    "    traduccion = \" \".join([traducciones.get(palabra, palabra) for palabra in frase.split()])\n",
    "    \n",
    "    # Mustra la frase traducida\n",
    "    print(\"Traducción:\", traduccion)\n",
    "\n",
    "# Llama a la fucion para ejecutar el programa\n",
    "diccionario_traduccion()\n"
   ]
  },
  {
   "cell_type": "code",
   "execution_count": 14,
   "metadata": {},
   "outputs": [
    {
     "name": "stdout",
     "output_type": "stream",
     "text": [
      "Frecuencia de palabras: {'hola': 1, 'que': 1, 'tal': 1}\n",
      "Palabra más repetida y su frecuencia: ('hola', 1)\n"
     ]
    }
   ],
   "source": [
    "\n",
    "def contar_palabras(cadena):\n",
    "    # Divide la cadena en palabras y cuenta la frecuencia de cada una\n",
    "    palabras = cadena.split()\n",
    "    frecuencia = {}\n",
    "    for palabra in palabras:\n",
    "        frecuencia[palabra] = frecuencia.get(palabra, 0) + 1\n",
    "    return frecuencia\n",
    "\n",
    "def palabra_mas_repetida(diccionario):\n",
    "    # Encuentra la palabra con mayor frecuencia en el diccionario\n",
    "    return max(diccionario.items(), key=lambda x: x[1])\n",
    "\n",
    "# Prueba el conteo de palabras\n",
    "datos = input(\"Ingrese una cadena de texto: \")\n",
    "frecuencia_palabras = contar_palabras(datos)\n",
    "print(\"Frecuencia de palabras:\", frecuencia_palabras)\n",
    "\n",
    "# Encuentra la palabra más repetida\n",
    "mas_repetida = palabra_mas_repetida(frecuencia_palabras)\n",
    "print(\"Palabra más repetida y su frecuencia:\", mas_repetida)\n"
   ]
  },
  {
   "cell_type": "markdown",
   "metadata": {},
   "source": [
    "### 4. **Funciones**\n",
    "\n",
    "- **Actividad 1**: Escribir una función que calcule el total de una factura tras aplicarle el IVA. La función debe recibir la cantidad sin IVA y el porcentaje de IVA a aplicar, y devolver el total de la factura. Si se invoca la función sin pasarle el porcentaje de IVA, deberá aplicar un 21%.\n",
    "\n",
    "- **Actividad 2**: Escribir una función que reciba un número entero positivo y devuelva su factorial.\n"
   ]
  },
  {
   "cell_type": "code",
   "execution_count": 15,
   "metadata": {},
   "outputs": [
    {
     "name": "stdout",
     "output_type": "stream",
     "text": [
      "Total de la factura con IVA: 2420.0\n"
     ]
    }
   ],
   "source": [
    "\n",
    "def calcular_factura(monto, iva=21):\n",
    "    # Calcula el total de una factura aplicando el IVA especificado\n",
    "    return monto + (monto * iva / 100)\n",
    "\n",
    "# Prueba el cálculo de factura\n",
    "monto = float(input(\"Ingrese el monto sin IVA: \"))\n",
    "iva = input(\"Ingrese el porcentaje de IVA (opcional, presione Enter para usar 21%): \")\n",
    "iva = float(iva) if iva else 21\n",
    "print(\"Total de la factura con IVA:\", calcular_factura(monto, iva))\n"
   ]
  },
  {
   "cell_type": "code",
   "execution_count": null,
   "metadata": {},
   "outputs": [],
   "source": [
    "def calcular_factorial(n):\n",
    "    # Calcula el factorial de un número entero positivo\n",
    "    # Si n es 0 o 1, el factorial es 1\n",
    "    if n == 0 or n == 1:\n",
    "        return 1\n",
    "    else:\n",
    "        # Multiplica n por el factorial de n-1 recursivamente\n",
    "        return n * calcular_factorial(n - 1)\n",
    "\n",
    "# Solicita al usuario un número entero positivo\n",
    "numero = int(input(\"Ingrese un número entero positivo: \"))\n",
    "\n",
    "# Muestra el resultado del cálculo del factorial\n",
    "print(f\"El factorial de {numero} es:\", calcular_factorial(numero))\n"
   ]
  }
 ],
 "metadata": {
  "kernelspec": {
   "display_name": "Python 3",
   "language": "python",
   "name": "python3"
  },
  "language_info": {
   "codemirror_mode": {
    "name": "ipython",
    "version": 3
   },
   "file_extension": ".py",
   "mimetype": "text/x-python",
   "name": "python",
   "nbconvert_exporter": "python",
   "pygments_lexer": "ipython3",
   "version": "3.12.9"
  }
 },
 "nbformat": 4,
 "nbformat_minor": 2
}
